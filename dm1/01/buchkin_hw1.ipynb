{
 "cells": [
  {
   "cell_type": "markdown",
   "metadata": {},
   "source": [
    "**Общая информация**\n",
    "\n",
    "**Срок сдачи:** 20 марта 2019, 06:00 <br\\>\n",
    "**Штраф за опоздание:** -1 балл после 06:00 20 марта, -2 балла после 06:00 27 марта, -3 балла после 06:00 3 апреля\n",
    "\n",
    "При отправлении ДЗ указывайте фамилию в названии файла\n",
    "Присылать ДЗ необходимо в виде ссылки на свой github репозиторий в slack @alkhamush\n",
    "\n",
    "Необходимо в slack скинуть ссылку в личный чат @alkhamush\n",
    "Пример ссылки:\n",
    "https://github.com/stroykova/spheremailru/stroykova_hw1.ipynb \n",
    "\n",
    "\n",
    "Используйте данный Ipython Notebook при оформлении домашнего задания."
   ]
  },
  {
   "cell_type": "markdown",
   "metadata": {},
   "source": [
    "###### Задание 1 (2 баллов)\n",
    "Реализовать KNN в классе MyKNeighborsClassifier (обязательное условие: точность не ниже sklearn реализации)\n",
    "Разберитесь самостоятельно, какая мера расстояния используется в KNeighborsClassifier дефолтно и реализуйте свой алгоритм именно с этой мерой. Самостоятельно разберитесь, как считается score из KNeighborsClassifier и реализуйте аналог в своём классе. Score не должен уступать значению KNN из sklearn\n",
    "\n",
    "###### Задание 2 (2 балла)\n",
    "Добиться скорости работы на fit,  predict и predict_proba сравнимой со sklearn для iris и mnist\n",
    "Для этого используем numpy\n",
    "\n",
    "###### Задание 3 (2 балла)\n",
    "Для iris найдите такой параметр n_neighbors, при котором выдаётся наилучший score. Нарисуйте график зависимости score от n_neighbors\n",
    "\n",
    "###### Задание 4 (3 балла)\n",
    "Добавить algorithm='kd_tree' в реализацию KNN (использовать KDTree из sklearn.neighbors). Значение n_neighbors нужно взять из задания 3. Добиться скорости работы на fit,  predict и predict_proba сравнимой со sklearn для iris и mnist\n",
    "Для этого используем numpy. Score не должен уступать значению KNN из sklearn\n",
    "\n",
    "###### Задание 5 (1 балла)\n",
    "Описать для чего нужны следующие библиотеки/классы/функции (список будет ниже)\n",
    "\n",
    "**Штрафные баллы:**\n",
    "\n",
    "1. Невыполнение PEP8 -1 балл\n",
    "2. Отсутствие фамилии в имени скрипта (скрипт должен называться по аналогии со stroykova_hw1.ipynb) -1 балл\n",
    "3. Все строчки должны быть выполнены. Нужно, чтобы output команды можно было увидеть уже в git'е. В противном случае -1 балл\n",
    "4. При оформлении ДЗ нужно пользоваться данным файлом в качестве шаблона. Не нужно удалять и видоизменять структуру кода и текст. В противном случае -1 балл\n"
   ]
  },
  {
   "cell_type": "code",
   "execution_count": 1,
   "metadata": {},
   "outputs": [],
   "source": [
    "import numpy as np\n",
    "import matplotlib.pyplot as plt\n",
    "\n",
    "import seaborn as sns\n",
    "from scipy.spatial.distance import cdist\n",
    "from scipy.stats import mode\n",
    "from sklearn import datasets\n",
    "from sklearn.base import ClassifierMixin\n",
    "from sklearn.datasets import fetch_openml\n",
    "from sklearn.neighbors.base import NeighborsBase, KNeighborsMixin, SupervisedIntegerMixin \n",
    "from sklearn.model_selection import train_test_split\n",
    "from sklearn.neighbors import KNeighborsClassifier, KDTree\n",
    "%load_ext pycodestyle_magic"
   ]
  },
  {
   "cell_type": "code",
   "execution_count": 2,
   "metadata": {},
   "outputs": [],
   "source": [
    "#%%pycodestyle\n",
    "\n",
    "\n",
    "class MyKNeighborsClassifier(NeighborsBase, KNeighborsMixin,\n",
    "                             SupervisedIntegerMixin, ClassifierMixin):\n",
    "\n",
    "    def __init__(self, n_neighbors, algorithm='brute'):\n",
    "        self.k = n_neighbors\n",
    "        self.algorithm = algorithm\n",
    "\n",
    "    def fit(self, X, y):\n",
    "        if self.algorithm == 'brute':\n",
    "            self.train_examples = X\n",
    "        elif self.algorithm == 'kd_tree':\n",
    "            self.kd_tree = KDTree(X, leaf_size=100)\n",
    "        else:\n",
    "            raise RuntimeError('Unknown algorithm ' + str(self.algorithm))\n",
    "        self.unique_labels = np.unique(y)\n",
    "        self.train_labels = np.empty(y.shape, dtype=np.int64)\n",
    "        for i in range(self.unique_labels.shape[0]):\n",
    "            label = self.unique_labels[i]\n",
    "            self.train_labels[np.where(y == label)] = i\n",
    "\n",
    "    def _get_n_closest_labels(self, X):\n",
    "        if self.algorithm == 'brute':\n",
    "            distances = cdist(X, self.train_examples)\n",
    "            n_closest_indexes = np.argpartition(\n",
    "                distances,\n",
    "                self.k,\n",
    "                axis=1\n",
    "            )[:, :self.k]\n",
    "            return self.train_labels[n_closest_indexes]\n",
    "        elif self.algorithm == 'kd_tree':\n",
    "            return self.train_labels[self.kd_tree.query(\n",
    "                X,\n",
    "                self.k,\n",
    "                return_distance=False\n",
    "            )]\n",
    "        else:\n",
    "            raise RuntimeError('Unknown algorithm ' + str(self.algorithm))\n",
    "\n",
    "    def predict(self, X):\n",
    "        return self.unique_labels[self.predict_proba(X).argmax(axis=1)]\n",
    "\n",
    "    def predict_proba(self, X):\n",
    "        n_closest_labels = self._get_n_closest_labels(X)\n",
    "        counted_labels = np.apply_along_axis(\n",
    "            lambda a: np.bincount(a, minlength=self.unique_labels.shape[0]),\n",
    "            1,\n",
    "            n_closest_labels\n",
    "        )\n",
    "        return counted_labels / self.k\n",
    "\n",
    "    def score(self, X, y):\n",
    "        prediction = self.predict(X)\n",
    "        return 1.0 - np.sum(prediction != y) / X.shape[0]"
   ]
  },
  {
   "cell_type": "markdown",
   "metadata": {},
   "source": [
    "**IRIS**"
   ]
  },
  {
   "cell_type": "code",
   "execution_count": 3,
   "metadata": {},
   "outputs": [],
   "source": [
    "iris = datasets.load_iris()"
   ]
  },
  {
   "cell_type": "code",
   "execution_count": 4,
   "metadata": {},
   "outputs": [],
   "source": [
    "X_train, X_test, y_train, y_test = train_test_split(iris.data, iris.target, test_size=0.1, stratify=iris.target)"
   ]
  },
  {
   "cell_type": "code",
   "execution_count": 5,
   "metadata": {},
   "outputs": [],
   "source": [
    "clf = KNeighborsClassifier(n_neighbors=2)\n",
    "my_clf = MyKNeighborsClassifier(n_neighbors=2)"
   ]
  },
  {
   "cell_type": "code",
   "execution_count": 6,
   "metadata": {},
   "outputs": [
    {
     "name": "stdout",
     "output_type": "stream",
     "text": [
      "CPU times: user 1.19 ms, sys: 287 µs, total: 1.48 ms\n",
      "Wall time: 1.19 ms\n"
     ]
    },
    {
     "data": {
      "text/plain": [
       "KNeighborsClassifier(algorithm='auto', leaf_size=30, metric='minkowski',\n",
       "           metric_params=None, n_jobs=None, n_neighbors=2, p=2,\n",
       "           weights='uniform')"
      ]
     },
     "execution_count": 6,
     "metadata": {},
     "output_type": "execute_result"
    }
   ],
   "source": [
    "%time clf.fit(X_train, y_train)"
   ]
  },
  {
   "cell_type": "code",
   "execution_count": 7,
   "metadata": {
    "scrolled": true
   },
   "outputs": [
    {
     "name": "stdout",
     "output_type": "stream",
     "text": [
      "CPU times: user 248 µs, sys: 59 µs, total: 307 µs\n",
      "Wall time: 247 µs\n"
     ]
    }
   ],
   "source": [
    "%time my_clf.fit(X_train, y_train)"
   ]
  },
  {
   "cell_type": "code",
   "execution_count": 8,
   "metadata": {},
   "outputs": [
    {
     "name": "stdout",
     "output_type": "stream",
     "text": [
      "CPU times: user 2.85 ms, sys: 700 µs, total: 3.55 ms\n",
      "Wall time: 2.91 ms\n"
     ]
    },
    {
     "data": {
      "text/plain": [
       "array([1, 2, 0, 0, 1, 0, 0, 1, 2, 2, 1, 2, 0, 2, 1])"
      ]
     },
     "execution_count": 8,
     "metadata": {},
     "output_type": "execute_result"
    }
   ],
   "source": [
    "%time clf.predict(X_test)"
   ]
  },
  {
   "cell_type": "code",
   "execution_count": 9,
   "metadata": {},
   "outputs": [
    {
     "name": "stdout",
     "output_type": "stream",
     "text": [
      "CPU times: user 1.52 ms, sys: 216 µs, total: 1.73 ms\n",
      "Wall time: 921 µs\n"
     ]
    },
    {
     "data": {
      "text/plain": [
       "array([1, 2, 0, 0, 1, 0, 0, 1, 2, 2, 1, 2, 0, 2, 1])"
      ]
     },
     "execution_count": 9,
     "metadata": {},
     "output_type": "execute_result"
    }
   ],
   "source": [
    "%time my_clf.predict(X_test)"
   ]
  },
  {
   "cell_type": "code",
   "execution_count": 10,
   "metadata": {},
   "outputs": [
    {
     "name": "stdout",
     "output_type": "stream",
     "text": [
      "CPU times: user 0 ns, sys: 1.36 ms, total: 1.36 ms\n",
      "Wall time: 1.13 ms\n"
     ]
    },
    {
     "data": {
      "text/plain": [
       "array([[0., 1., 0.],\n",
       "       [0., 0., 1.],\n",
       "       [1., 0., 0.],\n",
       "       [1., 0., 0.],\n",
       "       [0., 1., 0.],\n",
       "       [1., 0., 0.],\n",
       "       [1., 0., 0.],\n",
       "       [0., 1., 0.],\n",
       "       [0., 0., 1.],\n",
       "       [0., 0., 1.],\n",
       "       [0., 1., 0.],\n",
       "       [0., 0., 1.],\n",
       "       [1., 0., 0.],\n",
       "       [0., 0., 1.],\n",
       "       [0., 1., 0.]])"
      ]
     },
     "execution_count": 10,
     "metadata": {},
     "output_type": "execute_result"
    }
   ],
   "source": [
    "%time clf.predict_proba(X_test)"
   ]
  },
  {
   "cell_type": "code",
   "execution_count": 11,
   "metadata": {},
   "outputs": [
    {
     "name": "stdout",
     "output_type": "stream",
     "text": [
      "CPU times: user 1.4 ms, sys: 0 ns, total: 1.4 ms\n",
      "Wall time: 971 µs\n"
     ]
    },
    {
     "data": {
      "text/plain": [
       "array([[0., 1., 0.],\n",
       "       [0., 0., 1.],\n",
       "       [1., 0., 0.],\n",
       "       [1., 0., 0.],\n",
       "       [0., 1., 0.],\n",
       "       [1., 0., 0.],\n",
       "       [1., 0., 0.],\n",
       "       [0., 1., 0.],\n",
       "       [0., 0., 1.],\n",
       "       [0., 0., 1.],\n",
       "       [0., 1., 0.],\n",
       "       [0., 0., 1.],\n",
       "       [1., 0., 0.],\n",
       "       [0., 0., 1.],\n",
       "       [0., 1., 0.]])"
      ]
     },
     "execution_count": 11,
     "metadata": {},
     "output_type": "execute_result"
    }
   ],
   "source": [
    "%time my_clf.predict_proba(X_test)"
   ]
  },
  {
   "cell_type": "code",
   "execution_count": 12,
   "metadata": {},
   "outputs": [
    {
     "data": {
      "text/plain": [
       "1.0"
      ]
     },
     "execution_count": 12,
     "metadata": {},
     "output_type": "execute_result"
    }
   ],
   "source": [
    "clf.score(X_test, y_test)"
   ]
  },
  {
   "cell_type": "code",
   "execution_count": 13,
   "metadata": {},
   "outputs": [
    {
     "data": {
      "text/plain": [
       "1.0"
      ]
     },
     "execution_count": 13,
     "metadata": {},
     "output_type": "execute_result"
    }
   ],
   "source": [
    "my_clf.score(X_test, y_test)"
   ]
  },
  {
   "cell_type": "markdown",
   "metadata": {},
   "source": [
    "Задание 3"
   ]
  },
  {
   "cell_type": "code",
   "execution_count": 14,
   "metadata": {},
   "outputs": [
    {
     "data": {
      "image/png": "[encoded data removed]",
      "text/plain": [
       "<Figure size 432x288 with 1 Axes>"
      ]
     },
     "metadata": {
      "needs_background": "light"
     },
     "output_type": "display_data"
    }
   ],
   "source": [
    "iris = datasets.load_iris()\n",
    "X_train, X_test, y_train, y_test = train_test_split(iris.data, iris.target, test_size=0.2, stratify=iris.target)\n",
    "x_plot = list(range(1, X_test.shape[0]))\n",
    "y_plot = []\n",
    "for n_neighbors in x_plot:\n",
    "    my_clf = MyKNeighborsClassifier(n_neighbors=n_neighbors)\n",
    "    my_clf.fit(X_train, y_train)\n",
    "    y_plot.append(my_clf.score(X_test, y_test))\n",
    "plt.xlabel('n_neighbors')\n",
    "plt.ylabel('score')\n",
    "plt.plot(x_plot, y_plot, label='my')\n",
    "best_n_neighbors = np.asarray(y_plot).argmax() + 1"
   ]
  },
  {
   "cell_type": "markdown",
   "metadata": {},
   "source": [
    "**MNIST**"
   ]
  },
  {
   "cell_type": "code",
   "execution_count": 15,
   "metadata": {},
   "outputs": [],
   "source": [
    "#mnist = fetch_mldata('MNIST original')\n",
    "mnist = fetch_openml('mnist_784')"
   ]
  },
  {
   "cell_type": "code",
   "execution_count": 16,
   "metadata": {},
   "outputs": [],
   "source": [
    "X_train, X_test, y_train, y_test = train_test_split(mnist.data, mnist.target, test_size=0.01, stratify=mnist.target)"
   ]
  },
  {
   "cell_type": "code",
   "execution_count": 17,
   "metadata": {},
   "outputs": [],
   "source": [
    "clf = KNeighborsClassifier(n_neighbors=2)\n",
    "my_clf = MyKNeighborsClassifier(n_neighbors=2)"
   ]
  },
  {
   "cell_type": "code",
   "execution_count": 18,
   "metadata": {},
   "outputs": [
    {
     "name": "stdout",
     "output_type": "stream",
     "text": [
      "CPU times: user 57.6 s, sys: 95.6 ms, total: 57.7 s\n",
      "Wall time: 57.5 s\n"
     ]
    },
    {
     "data": {
      "text/plain": [
       "KNeighborsClassifier(algorithm='auto', leaf_size=30, metric='minkowski',\n",
       "           metric_params=None, n_jobs=None, n_neighbors=2, p=2,\n",
       "           weights='uniform')"
      ]
     },
     "execution_count": 18,
     "metadata": {},
     "output_type": "execute_result"
    }
   ],
   "source": [
    "%time clf.fit(X_train, y_train)"
   ]
  },
  {
   "cell_type": "code",
   "execution_count": 19,
   "metadata": {},
   "outputs": [
    {
     "name": "stdout",
     "output_type": "stream",
     "text": [
      "CPU times: user 72.7 ms, sys: 0 ns, total: 72.7 ms\n",
      "Wall time: 71.3 ms\n"
     ]
    }
   ],
   "source": [
    "%time my_clf.fit(X_train, y_train)"
   ]
  },
  {
   "cell_type": "code",
   "execution_count": 20,
   "metadata": {},
   "outputs": [
    {
     "name": "stdout",
     "output_type": "stream",
     "text": [
      "CPU times: user 1min 18s, sys: 308 ms, total: 1min 18s\n",
      "Wall time: 1min 18s\n"
     ]
    },
    {
     "data": {
      "text/plain": [
       "array(['7', '5', '9', '9', '7', '0', '4', '0', '2', '7', '7', '4', '9',\n",
       "       '3', '2', '4', '9', '6', '1', '6', '8', '0', '1', '6', '1', '3',\n",
       "       '0', '3', '4', '3', '9', '1', '3', '7', '5', '8', '6', '2', '2',\n",
       "       '9', '1', '5', '9', '0', '6', '2', '0', '4', '5', '0', '2', '7',\n",
       "       '5', '9', '3', '1', '0', '5', '1', '8', '0', '9', '3', '0', '4',\n",
       "       '3', '1', '0', '7', '1', '0', '5', '4', '3', '9', '1', '2', '8',\n",
       "       '8', '7', '3', '1', '6', '6', '5', '3', '9', '9', '0', '4', '3',\n",
       "       '6', '7', '2', '4', '2', '9', '9', '3', '4', '6', '1', '2', '0',\n",
       "       '7', '4', '8', '4', '5', '4', '3', '5', '7', '4', '3', '5', '0',\n",
       "       '7', '7', '4', '7', '1', '5', '1', '2', '0', '2', '2', '3', '9',\n",
       "       '9', '0', '9', '7', '2', '1', '3', '1', '1', '4', '3', '1', '1',\n",
       "       '7', '5', '6', '0', '6', '4', '7', '9', '2', '9', '4', '9', '9',\n",
       "       '1', '6', '4', '5', '0', '6', '8', '5', '5', '9', '6', '8', '5',\n",
       "       '0', '0', '7', '9', '2', '1', '7', '8', '0', '4', '4', '4', '6',\n",
       "       '3', '9', '1', '1', '4', '8', '7', '4', '6', '8', '9', '4', '9',\n",
       "       '8', '8', '4', '1', '2', '5', '2', '2', '4', '9', '9', '0', '7',\n",
       "       '2', '8', '7', '4', '9', '8', '9', '6', '0', '7', '7', '4', '2',\n",
       "       '0', '1', '1', '3', '2', '1', '8', '8', '5', '7', '0', '1', '6',\n",
       "       '7', '1', '4', '9', '3', '1', '6', '2', '1', '7', '2', '1', '0',\n",
       "       '2', '7', '8', '1', '3', '0', '0', '9', '7', '1', '2', '2', '0',\n",
       "       '2', '9', '6', '2', '5', '4', '6', '0', '9', '7', '9', '4', '4',\n",
       "       '2', '6', '9', '6', '3', '3', '8', '5', '7', '3', '8', '6', '3',\n",
       "       '4', '8', '3', '7', '6', '1', '0', '6', '9', '0', '3', '0', '2',\n",
       "       '3', '0', '8', '7', '1', '9', '0', '9', '8', '6', '4', '7', '3',\n",
       "       '3', '1', '4', '1', '6', '1', '9', '7', '7', '1', '4', '9', '7',\n",
       "       '5', '8', '5', '7', '9', '5', '6', '3', '2', '3', '5', '3', '6',\n",
       "       '7', '1', '2', '3', '3', '6', '1', '3', '3', '4', '4', '4', '3',\n",
       "       '6', '4', '9', '0', '3', '0', '3', '3', '8', '4', '5', '5', '7',\n",
       "       '5', '3', '0', '6', '6', '0', '7', '1', '1', '1', '4', '8', '7',\n",
       "       '9', '8', '8', '6', '8', '8', '2', '6', '0', '7', '4', '7', '3',\n",
       "       '8', '8', '6', '4', '8', '1', '1', '0', '4', '8', '8', '2', '1',\n",
       "       '3', '3', '6', '0', '6', '1', '9', '0', '8', '4', '4', '9', '4',\n",
       "       '5', '9', '5', '9', '9', '7', '2', '4', '3', '0', '7', '5', '2',\n",
       "       '1', '9', '0', '4', '5', '1', '7', '8', '8', '4', '2', '5', '6',\n",
       "       '3', '5', '0', '9', '9', '4', '1', '8', '8', '3', '5', '0', '3',\n",
       "       '7', '0', '3', '3', '6', '5', '0', '1', '4', '3', '0', '8', '1',\n",
       "       '1', '7', '6', '5', '7', '0', '4', '2', '2', '4', '6', '5', '7',\n",
       "       '6', '0', '3', '2', '5', '1', '5', '6', '3', '1', '2', '6', '0',\n",
       "       '6', '4', '1', '8', '2', '6', '1', '5', '5', '8', '5', '0', '6',\n",
       "       '8', '3', '4', '0', '2', '0', '8', '7', '9', '2', '2', '6', '4',\n",
       "       '1', '2', '2', '6', '5', '8', '0', '8', '2', '7', '1', '2', '1',\n",
       "       '5', '0', '8', '7', '9', '8', '5', '7', '1', '1', '9', '3', '8',\n",
       "       '2', '9', '0', '9', '6', '2', '5', '6', '0', '9', '5', '4', '7',\n",
       "       '9', '0', '1', '9', '4', '1', '3', '3', '3', '5', '7', '7', '9',\n",
       "       '2', '9', '3', '9', '5', '7', '5', '3', '2', '5', '0', '4', '8',\n",
       "       '7', '2', '7', '1', '1', '7', '0', '6', '5', '6', '5', '8', '1',\n",
       "       '1', '2', '0', '6', '3', '4', '8', '8', '4', '2', '6', '3', '7',\n",
       "       '9', '1', '3', '1', '9', '9', '5', '7', '4', '2', '4', '8', '7',\n",
       "       '9', '3', '3', '6', '2', '6', '3', '3', '3', '1', '2', '3', '9',\n",
       "       '5', '2', '7', '8', '7', '5', '1', '0', '2', '6', '6', '3', '9',\n",
       "       '7', '1', '4', '3', '7', '0', '5', '7', '0', '2', '8', '0', '2',\n",
       "       '7', '5', '7', '6', '8', '2', '8', '8', '2', '6', '3', '4', '1',\n",
       "       '0', '6', '1', '8', '6', '1', '2', '4', '4', '8', '1', '4', '5',\n",
       "       '2', '7', '1', '0', '7', '4', '3', '5', '3', '0', '1'],\n",
       "      dtype=object)"
      ]
     },
     "execution_count": 20,
     "metadata": {},
     "output_type": "execute_result"
    }
   ],
   "source": [
    "%time clf.predict(X_test)"
   ]
  },
  {
   "cell_type": "code",
   "execution_count": 21,
   "metadata": {},
   "outputs": [
    {
     "name": "stdout",
     "output_type": "stream",
     "text": [
      "CPU times: user 32.3 s, sys: 460 ms, total: 32.7 s\n",
      "Wall time: 32.7 s\n"
     ]
    },
    {
     "data": {
      "text/plain": [
       "array(['7', '5', '9', '9', '7', '0', '4', '0', '2', '7', '7', '4', '9',\n",
       "       '3', '2', '4', '9', '6', '1', '6', '8', '0', '1', '6', '1', '3',\n",
       "       '0', '3', '4', '3', '9', '1', '3', '7', '5', '8', '6', '2', '2',\n",
       "       '9', '1', '5', '9', '0', '6', '2', '0', '4', '5', '0', '2', '7',\n",
       "       '5', '9', '3', '1', '0', '5', '1', '8', '0', '9', '3', '0', '4',\n",
       "       '3', '1', '0', '7', '1', '0', '5', '4', '3', '9', '1', '2', '8',\n",
       "       '8', '7', '3', '1', '6', '6', '5', '3', '9', '9', '0', '4', '3',\n",
       "       '6', '7', '2', '4', '2', '9', '9', '3', '4', '6', '1', '2', '0',\n",
       "       '7', '4', '8', '4', '5', '4', '3', '5', '7', '4', '3', '5', '0',\n",
       "       '7', '7', '4', '7', '1', '5', '1', '2', '0', '2', '2', '3', '9',\n",
       "       '9', '0', '9', '7', '2', '1', '3', '1', '1', '4', '3', '1', '1',\n",
       "       '7', '5', '6', '0', '6', '4', '7', '9', '2', '9', '4', '9', '9',\n",
       "       '1', '6', '4', '5', '0', '6', '8', '5', '5', '9', '6', '8', '5',\n",
       "       '0', '0', '7', '9', '2', '1', '7', '8', '0', '4', '4', '4', '6',\n",
       "       '3', '9', '1', '1', '4', '8', '7', '4', '6', '8', '9', '4', '9',\n",
       "       '8', '8', '4', '1', '2', '5', '2', '2', '4', '9', '9', '0', '7',\n",
       "       '2', '8', '7', '4', '9', '8', '9', '6', '0', '7', '7', '4', '2',\n",
       "       '0', '1', '1', '3', '2', '1', '8', '8', '5', '7', '0', '1', '6',\n",
       "       '7', '1', '4', '9', '3', '1', '6', '2', '1', '7', '2', '1', '0',\n",
       "       '2', '7', '8', '1', '3', '0', '0', '9', '7', '1', '2', '2', '0',\n",
       "       '2', '9', '6', '2', '5', '4', '6', '0', '9', '7', '9', '4', '4',\n",
       "       '2', '6', '9', '6', '3', '3', '8', '5', '7', '3', '8', '6', '3',\n",
       "       '4', '8', '3', '7', '6', '1', '0', '6', '9', '0', '3', '0', '2',\n",
       "       '3', '0', '8', '7', '1', '9', '0', '9', '8', '6', '4', '7', '3',\n",
       "       '3', '1', '4', '1', '6', '1', '9', '7', '7', '1', '4', '9', '7',\n",
       "       '5', '8', '5', '7', '9', '5', '6', '3', '2', '3', '5', '3', '6',\n",
       "       '7', '1', '2', '3', '3', '6', '1', '3', '3', '4', '4', '4', '3',\n",
       "       '6', '4', '9', '0', '3', '0', '3', '3', '8', '4', '5', '5', '7',\n",
       "       '5', '3', '0', '6', '6', '0', '7', '1', '1', '1', '4', '8', '7',\n",
       "       '9', '8', '8', '6', '8', '8', '2', '6', '0', '7', '4', '7', '3',\n",
       "       '8', '8', '6', '4', '8', '1', '1', '0', '4', '8', '8', '2', '1',\n",
       "       '3', '3', '6', '0', '6', '1', '9', '0', '8', '4', '4', '9', '4',\n",
       "       '5', '9', '5', '9', '9', '7', '2', '4', '3', '0', '7', '5', '2',\n",
       "       '1', '9', '0', '4', '5', '1', '7', '8', '8', '4', '2', '5', '6',\n",
       "       '3', '5', '0', '9', '9', '4', '1', '8', '8', '3', '5', '0', '3',\n",
       "       '7', '0', '3', '3', '6', '5', '0', '1', '4', '3', '0', '8', '1',\n",
       "       '1', '7', '6', '5', '7', '0', '4', '2', '2', '4', '6', '5', '7',\n",
       "       '6', '0', '3', '2', '5', '1', '5', '6', '3', '1', '2', '6', '0',\n",
       "       '6', '4', '1', '8', '2', '6', '1', '5', '5', '8', '5', '0', '6',\n",
       "       '8', '3', '4', '0', '2', '0', '8', '7', '9', '2', '2', '6', '4',\n",
       "       '1', '2', '2', '6', '5', '8', '0', '8', '2', '7', '1', '2', '1',\n",
       "       '5', '0', '8', '7', '9', '8', '5', '7', '1', '1', '9', '3', '8',\n",
       "       '2', '9', '0', '9', '6', '2', '5', '6', '0', '9', '5', '4', '7',\n",
       "       '9', '0', '1', '9', '4', '1', '3', '3', '3', '5', '7', '7', '9',\n",
       "       '2', '9', '3', '9', '5', '7', '5', '3', '2', '5', '0', '4', '8',\n",
       "       '7', '2', '7', '1', '1', '7', '0', '6', '5', '6', '5', '8', '1',\n",
       "       '1', '2', '0', '6', '3', '4', '8', '8', '4', '2', '6', '3', '7',\n",
       "       '9', '1', '3', '1', '9', '9', '5', '7', '4', '2', '4', '8', '7',\n",
       "       '9', '3', '3', '6', '2', '6', '3', '3', '3', '1', '2', '3', '9',\n",
       "       '5', '2', '7', '8', '7', '5', '1', '0', '2', '6', '6', '3', '9',\n",
       "       '7', '1', '4', '3', '7', '0', '5', '7', '0', '2', '8', '0', '2',\n",
       "       '7', '5', '7', '6', '8', '2', '8', '8', '2', '6', '3', '4', '1',\n",
       "       '0', '6', '1', '8', '6', '1', '2', '4', '4', '8', '1', '4', '5',\n",
       "       '2', '7', '1', '0', '7', '4', '3', '5', '3', '0', '1'],\n",
       "      dtype=object)"
      ]
     },
     "execution_count": 21,
     "metadata": {},
     "output_type": "execute_result"
    }
   ],
   "source": [
    "%time my_clf.predict(X_test)"
   ]
  },
  {
   "cell_type": "code",
   "execution_count": 22,
   "metadata": {},
   "outputs": [
    {
     "name": "stdout",
     "output_type": "stream",
     "text": [
      "CPU times: user 1min 14s, sys: 56.1 ms, total: 1min 14s\n",
      "Wall time: 1min 14s\n"
     ]
    },
    {
     "data": {
      "text/plain": [
       "array([[0. , 0. , 0. , ..., 1. , 0. , 0. ],\n",
       "       [0. , 0. , 0. , ..., 0. , 0. , 0. ],\n",
       "       [0. , 0. , 0. , ..., 0. , 0. , 1. ],\n",
       "       ...,\n",
       "       [0. , 0. , 0. , ..., 0. , 0.5, 0. ],\n",
       "       [1. , 0. , 0. , ..., 0. , 0. , 0. ],\n",
       "       [0. , 0.5, 0. , ..., 0. , 0.5, 0. ]])"
      ]
     },
     "execution_count": 22,
     "metadata": {},
     "output_type": "execute_result"
    }
   ],
   "source": [
    "%time clf.predict_proba(X_test)"
   ]
  },
  {
   "cell_type": "code",
   "execution_count": 23,
   "metadata": {},
   "outputs": [
    {
     "name": "stdout",
     "output_type": "stream",
     "text": [
      "CPU times: user 32.3 s, sys: 464 ms, total: 32.8 s\n",
      "Wall time: 32.8 s\n"
     ]
    },
    {
     "data": {
      "text/plain": [
       "array([[0. , 0. , 0. , ..., 1. , 0. , 0. ],\n",
       "       [0. , 0. , 0. , ..., 0. , 0. , 0. ],\n",
       "       [0. , 0. , 0. , ..., 0. , 0. , 1. ],\n",
       "       ...,\n",
       "       [0. , 0. , 0. , ..., 0. , 0.5, 0. ],\n",
       "       [1. , 0. , 0. , ..., 0. , 0. , 0. ],\n",
       "       [0. , 0.5, 0. , ..., 0. , 0.5, 0. ]])"
      ]
     },
     "execution_count": 23,
     "metadata": {},
     "output_type": "execute_result"
    }
   ],
   "source": [
    "%time my_clf.predict_proba(X_test)"
   ]
  },
  {
   "cell_type": "code",
   "execution_count": 24,
   "metadata": {},
   "outputs": [
    {
     "data": {
      "text/plain": [
       "0.9657142857142857"
      ]
     },
     "execution_count": 24,
     "metadata": {},
     "output_type": "execute_result"
    }
   ],
   "source": [
    "clf.score(X_test, y_test)"
   ]
  },
  {
   "cell_type": "code",
   "execution_count": 25,
   "metadata": {},
   "outputs": [
    {
     "data": {
      "text/plain": [
       "0.9657142857142857"
      ]
     },
     "execution_count": 25,
     "metadata": {},
     "output_type": "execute_result"
    }
   ],
   "source": [
    "my_clf.score(X_test, y_test)"
   ]
  },
  {
   "cell_type": "markdown",
   "metadata": {},
   "source": [
    "Задание 4"
   ]
  },
  {
   "cell_type": "code",
   "execution_count": 26,
   "metadata": {},
   "outputs": [],
   "source": [
    "clf = KNeighborsClassifier(n_neighbors=best_n_neighbors, algorithm='kd_tree')\n",
    "my_clf = MyKNeighborsClassifier(n_neighbors=best_n_neighbors, algorithm='kd_tree')"
   ]
  },
  {
   "cell_type": "code",
   "execution_count": 27,
   "metadata": {},
   "outputs": [],
   "source": [
    "X_train, X_test, y_train, y_test = train_test_split(mnist.data, mnist.target, test_size=0.01, stratify=mnist.target)"
   ]
  },
  {
   "cell_type": "code",
   "execution_count": 28,
   "metadata": {},
   "outputs": [
    {
     "name": "stdout",
     "output_type": "stream",
     "text": [
      "CPU times: user 1min 8s, sys: 192 ms, total: 1min 8s\n",
      "Wall time: 1min 8s\n"
     ]
    },
    {
     "data": {
      "text/plain": [
       "KNeighborsClassifier(algorithm='kd_tree', leaf_size=30, metric='minkowski',\n",
       "           metric_params=None, n_jobs=None, n_neighbors=3, p=2,\n",
       "           weights='uniform')"
      ]
     },
     "execution_count": 28,
     "metadata": {},
     "output_type": "execute_result"
    }
   ],
   "source": [
    "%time clf.fit(X_train, y_train)"
   ]
  },
  {
   "cell_type": "code",
   "execution_count": 29,
   "metadata": {},
   "outputs": [
    {
     "name": "stdout",
     "output_type": "stream",
     "text": [
      "CPU times: user 1min 6s, sys: 185 ms, total: 1min 7s\n",
      "Wall time: 1min 6s\n"
     ]
    }
   ],
   "source": [
    "%time my_clf.fit(X_train, y_train)"
   ]
  },
  {
   "cell_type": "code",
   "execution_count": 30,
   "metadata": {},
   "outputs": [
    {
     "name": "stdout",
     "output_type": "stream",
     "text": [
      "CPU times: user 1min 16s, sys: 244 ms, total: 1min 16s\n",
      "Wall time: 1min 16s\n"
     ]
    },
    {
     "data": {
      "text/plain": [
       "array(['1', '7', '6', '5', '5', '1', '3', '6', '4', '9', '3', '6', '0',\n",
       "       '1', '9', '9', '0', '7', '4', '2', '4', '7', '1', '6', '1', '1',\n",
       "       '7', '1', '6', '2', '9', '5', '6', '1', '7', '7', '7', '5', '0',\n",
       "       '1', '9', '3', '8', '1', '2', '7', '5', '1', '7', '4', '4', '8',\n",
       "       '4', '1', '9', '5', '2', '0', '1', '1', '1', '1', '3', '9', '1',\n",
       "       '8', '8', '8', '9', '6', '8', '7', '0', '0', '9', '8', '0', '3',\n",
       "       '9', '7', '9', '7', '4', '3', '9', '3', '3', '1', '5', '3', '9',\n",
       "       '6', '0', '3', '3', '0', '0', '0', '8', '0', '9', '5', '9', '7',\n",
       "       '4', '2', '4', '0', '9', '8', '2', '0', '1', '2', '8', '8', '7',\n",
       "       '2', '5', '9', '5', '9', '5', '3', '3', '5', '7', '2', '1', '1',\n",
       "       '2', '3', '7', '2', '2', '0', '7', '7', '6', '4', '0', '8', '8',\n",
       "       '6', '2', '0', '2', '1', '5', '1', '0', '2', '4', '3', '2', '3',\n",
       "       '1', '1', '9', '8', '1', '5', '7', '9', '4', '4', '9', '2', '3',\n",
       "       '5', '0', '6', '6', '5', '8', '1', '7', '5', '9', '9', '8', '6',\n",
       "       '0', '3', '7', '8', '6', '8', '0', '6', '4', '8', '2', '3', '3',\n",
       "       '4', '6', '9', '2', '3', '3', '9', '3', '2', '2', '3', '1', '8',\n",
       "       '9', '9', '9', '6', '2', '6', '6', '5', '1', '6', '9', '5', '8',\n",
       "       '2', '2', '8', '5', '5', '5', '6', '3', '8', '1', '5', '2', '6',\n",
       "       '4', '6', '4', '6', '3', '7', '2', '2', '4', '4', '4', '6', '6',\n",
       "       '7', '1', '2', '4', '1', '0', '3', '5', '1', '5', '1', '3', '0',\n",
       "       '4', '5', '2', '9', '1', '4', '4', '4', '2', '3', '1', '7', '5',\n",
       "       '9', '4', '4', '2', '2', '3', '2', '3', '8', '5', '8', '1', '3',\n",
       "       '1', '4', '7', '1', '3', '3', '2', '3', '7', '5', '6', '9', '1',\n",
       "       '6', '0', '7', '3', '3', '9', '5', '6', '2', '0', '1', '7', '1',\n",
       "       '6', '6', '4', '8', '6', '0', '7', '3', '1', '6', '1', '0', '8',\n",
       "       '4', '1', '8', '8', '3', '2', '0', '3', '3', '7', '4', '5', '6',\n",
       "       '2', '6', '2', '1', '1', '1', '7', '9', '8', '6', '7', '1', '5',\n",
       "       '9', '1', '7', '9', '9', '8', '0', '1', '7', '0', '1', '4', '1',\n",
       "       '6', '0', '6', '5', '9', '6', '6', '3', '2', '2', '2', '4', '4',\n",
       "       '1', '1', '8', '3', '8', '6', '5', '6', '7', '0', '4', '8', '5',\n",
       "       '1', '7', '5', '0', '2', '3', '0', '9', '5', '4', '8', '8', '6',\n",
       "       '3', '1', '3', '1', '3', '9', '7', '7', '7', '4', '2', '9', '7',\n",
       "       '7', '5', '7', '7', '0', '6', '2', '3', '2', '4', '1', '9', '4',\n",
       "       '2', '9', '7', '2', '5', '2', '6', '7', '6', '7', '0', '5', '4',\n",
       "       '5', '4', '6', '7', '4', '3', '7', '6', '6', '4', '2', '0', '6',\n",
       "       '9', '7', '0', '0', '3', '0', '2', '1', '7', '9', '4', '3', '4',\n",
       "       '5', '0', '6', '6', '5', '2', '0', '9', '9', '9', '8', '0', '0',\n",
       "       '7', '4', '7', '3', '4', '1', '4', '9', '0', '0', '6', '2', '5',\n",
       "       '6', '3', '6', '7', '3', '7', '3', '4', '9', '3', '1', '9', '8',\n",
       "       '3', '1', '0', '3', '1', '5', '7', '2', '4', '8', '0', '6', '2',\n",
       "       '0', '6', '8', '8', '2', '4', '1', '9', '0', '8', '1', '6', '7',\n",
       "       '6', '4', '9', '7', '0', '3', '2', '2', '8', '9', '1', '5', '8',\n",
       "       '5', '5', '9', '2', '4', '2', '9', '8', '7', '1', '8', '7', '2',\n",
       "       '3', '6', '7', '8', '4', '8', '7', '1', '4', '6', '0', '8', '5',\n",
       "       '2', '1', '6', '8', '4', '3', '4', '0', '9', '9', '7', '9', '7',\n",
       "       '4', '3', '9', '5', '2', '1', '0', '0', '9', '6', '0', '2', '0',\n",
       "       '0', '5', '0', '0', '0', '7', '1', '4', '1', '8', '9', '3', '6',\n",
       "       '1', '0', '1', '7', '6', '3', '1', '0', '5', '6', '4', '3', '3',\n",
       "       '6', '8', '6', '5', '0', '8', '2', '7', '2', '1', '3', '9', '9',\n",
       "       '2', '8', '3', '9', '5', '0', '5', '6', '9', '5', '0', '2', '3',\n",
       "       '8', '4', '7', '3', '5', '1', '9', '0', '0', '1', '3', '1', '5',\n",
       "       '9', '7', '5', '8', '6', '5', '7', '3', '7', '9', '4', '2', '4',\n",
       "       '4', '2', '0', '4', '8', '8', '5', '7', '2', '4', '9', '3', '4',\n",
       "       '0', '7', '6', '3', '2', '8', '5', '7', '7', '8', '0'],\n",
       "      dtype=object)"
      ]
     },
     "execution_count": 30,
     "metadata": {},
     "output_type": "execute_result"
    }
   ],
   "source": [
    "%time clf.predict(X_test)"
   ]
  },
  {
   "cell_type": "code",
   "execution_count": 31,
   "metadata": {},
   "outputs": [
    {
     "name": "stdout",
     "output_type": "stream",
     "text": [
      "CPU times: user 53 s, sys: 18 µs, total: 53 s\n",
      "Wall time: 53 s\n"
     ]
    },
    {
     "data": {
      "text/plain": [
       "array(['1', '7', '6', '5', '5', '1', '3', '6', '4', '9', '3', '6', '0',\n",
       "       '1', '9', '9', '0', '7', '4', '2', '4', '7', '1', '6', '1', '1',\n",
       "       '7', '1', '6', '2', '9', '5', '6', '1', '7', '7', '7', '5', '0',\n",
       "       '1', '9', '3', '8', '1', '2', '7', '5', '1', '7', '4', '4', '8',\n",
       "       '4', '1', '9', '5', '2', '0', '1', '1', '1', '1', '3', '9', '1',\n",
       "       '8', '8', '8', '9', '6', '8', '7', '0', '0', '9', '8', '0', '3',\n",
       "       '9', '7', '9', '7', '4', '3', '9', '3', '3', '1', '5', '3', '9',\n",
       "       '6', '0', '3', '3', '0', '0', '0', '8', '0', '9', '5', '9', '7',\n",
       "       '4', '2', '4', '0', '9', '8', '2', '0', '1', '2', '8', '8', '7',\n",
       "       '2', '5', '9', '5', '9', '5', '3', '3', '5', '7', '2', '1', '1',\n",
       "       '2', '3', '7', '2', '2', '0', '7', '7', '6', '4', '0', '8', '8',\n",
       "       '6', '2', '0', '2', '1', '5', '1', '0', '2', '4', '3', '2', '3',\n",
       "       '1', '1', '9', '8', '1', '5', '7', '9', '4', '4', '9', '2', '3',\n",
       "       '5', '0', '6', '6', '5', '8', '1', '7', '5', '9', '9', '8', '6',\n",
       "       '0', '3', '7', '8', '6', '8', '0', '6', '4', '8', '2', '3', '3',\n",
       "       '4', '6', '9', '2', '3', '3', '9', '3', '2', '2', '3', '1', '8',\n",
       "       '9', '9', '9', '6', '2', '6', '6', '5', '1', '6', '9', '5', '8',\n",
       "       '2', '2', '8', '5', '5', '5', '6', '3', '8', '1', '5', '2', '6',\n",
       "       '4', '6', '4', '6', '3', '7', '2', '2', '4', '4', '4', '6', '6',\n",
       "       '7', '1', '2', '4', '1', '0', '3', '5', '1', '5', '1', '3', '0',\n",
       "       '4', '5', '2', '9', '1', '4', '4', '4', '2', '3', '1', '7', '5',\n",
       "       '9', '4', '4', '2', '2', '3', '2', '3', '8', '5', '8', '1', '3',\n",
       "       '1', '4', '7', '1', '3', '3', '2', '3', '7', '5', '6', '9', '1',\n",
       "       '6', '0', '7', '3', '3', '9', '5', '6', '2', '0', '1', '7', '1',\n",
       "       '6', '6', '4', '8', '6', '0', '7', '3', '1', '6', '1', '0', '8',\n",
       "       '4', '1', '8', '8', '3', '2', '0', '3', '3', '7', '4', '5', '6',\n",
       "       '2', '6', '2', '1', '1', '1', '7', '9', '8', '6', '7', '1', '5',\n",
       "       '9', '1', '7', '9', '9', '8', '0', '1', '7', '0', '1', '4', '1',\n",
       "       '6', '0', '6', '5', '9', '6', '6', '3', '2', '2', '2', '4', '4',\n",
       "       '1', '1', '8', '3', '8', '6', '5', '6', '7', '0', '4', '8', '5',\n",
       "       '1', '7', '5', '0', '2', '3', '0', '9', '5', '4', '8', '8', '6',\n",
       "       '3', '1', '3', '1', '3', '9', '7', '7', '7', '4', '2', '9', '7',\n",
       "       '7', '5', '7', '7', '0', '6', '2', '3', '2', '4', '1', '9', '4',\n",
       "       '2', '9', '7', '2', '5', '2', '6', '7', '6', '7', '0', '5', '4',\n",
       "       '5', '4', '6', '7', '4', '3', '7', '6', '6', '4', '2', '0', '6',\n",
       "       '9', '7', '0', '0', '3', '0', '2', '1', '7', '9', '4', '3', '4',\n",
       "       '5', '0', '6', '6', '5', '2', '0', '9', '9', '9', '8', '0', '0',\n",
       "       '7', '4', '7', '3', '4', '1', '4', '9', '0', '0', '6', '2', '5',\n",
       "       '6', '3', '6', '7', '3', '7', '3', '4', '9', '3', '1', '9', '8',\n",
       "       '3', '1', '0', '3', '1', '5', '7', '2', '4', '8', '0', '6', '2',\n",
       "       '0', '6', '8', '8', '2', '4', '1', '9', '0', '8', '1', '6', '7',\n",
       "       '6', '4', '9', '7', '0', '3', '2', '2', '8', '9', '1', '5', '8',\n",
       "       '5', '5', '9', '2', '4', '2', '9', '8', '7', '1', '8', '7', '2',\n",
       "       '3', '6', '7', '8', '4', '8', '7', '1', '4', '6', '0', '8', '5',\n",
       "       '2', '1', '6', '8', '4', '3', '4', '0', '9', '9', '7', '9', '7',\n",
       "       '4', '3', '9', '5', '2', '1', '0', '0', '9', '6', '0', '2', '0',\n",
       "       '0', '5', '0', '0', '0', '7', '1', '4', '1', '8', '9', '3', '6',\n",
       "       '1', '0', '1', '7', '6', '3', '1', '0', '5', '6', '4', '3', '3',\n",
       "       '6', '8', '6', '5', '0', '8', '2', '7', '2', '1', '3', '9', '9',\n",
       "       '2', '8', '3', '9', '5', '0', '5', '6', '9', '5', '0', '2', '3',\n",
       "       '8', '4', '7', '3', '5', '1', '9', '0', '0', '1', '3', '1', '5',\n",
       "       '9', '7', '5', '8', '6', '5', '7', '3', '7', '9', '4', '2', '4',\n",
       "       '4', '2', '0', '4', '8', '8', '5', '7', '2', '4', '9', '3', '4',\n",
       "       '0', '7', '6', '3', '2', '8', '5', '7', '7', '8', '0'],\n",
       "      dtype=object)"
      ]
     },
     "execution_count": 31,
     "metadata": {},
     "output_type": "execute_result"
    }
   ],
   "source": [
    "%time my_clf.predict(X_test)"
   ]
  },
  {
   "cell_type": "code",
   "execution_count": 32,
   "metadata": {},
   "outputs": [
    {
     "name": "stdout",
     "output_type": "stream",
     "text": [
      "CPU times: user 1min 19s, sys: 28 ms, total: 1min 19s\n",
      "Wall time: 1min 19s\n"
     ]
    },
    {
     "data": {
      "text/plain": [
       "array([[0., 1., 0., ..., 0., 0., 0.],\n",
       "       [0., 0., 0., ..., 1., 0., 0.],\n",
       "       [0., 0., 0., ..., 0., 0., 0.],\n",
       "       ...,\n",
       "       [0., 0., 0., ..., 1., 0., 0.],\n",
       "       [0., 0., 0., ..., 0., 1., 0.],\n",
       "       [1., 0., 0., ..., 0., 0., 0.]])"
      ]
     },
     "execution_count": 32,
     "metadata": {},
     "output_type": "execute_result"
    }
   ],
   "source": [
    "%time clf.predict_proba(X_test)"
   ]
  },
  {
   "cell_type": "code",
   "execution_count": 33,
   "metadata": {},
   "outputs": [
    {
     "name": "stdout",
     "output_type": "stream",
     "text": [
      "CPU times: user 53.3 s, sys: 0 ns, total: 53.3 s\n",
      "Wall time: 53.3 s\n"
     ]
    },
    {
     "data": {
      "text/plain": [
       "array([[0., 1., 0., ..., 0., 0., 0.],\n",
       "       [0., 0., 0., ..., 1., 0., 0.],\n",
       "       [0., 0., 0., ..., 0., 0., 0.],\n",
       "       ...,\n",
       "       [0., 0., 0., ..., 1., 0., 0.],\n",
       "       [0., 0., 0., ..., 0., 1., 0.],\n",
       "       [1., 0., 0., ..., 0., 0., 0.]])"
      ]
     },
     "execution_count": 33,
     "metadata": {},
     "output_type": "execute_result"
    }
   ],
   "source": [
    "%time my_clf.predict_proba(X_test)"
   ]
  },
  {
   "cell_type": "code",
   "execution_count": 34,
   "metadata": {},
   "outputs": [
    {
     "data": {
      "text/plain": [
       "0.9685714285714285"
      ]
     },
     "execution_count": 34,
     "metadata": {},
     "output_type": "execute_result"
    }
   ],
   "source": [
    "clf.score(X_test, y_test)"
   ]
  },
  {
   "cell_type": "code",
   "execution_count": 35,
   "metadata": {},
   "outputs": [
    {
     "data": {
      "text/plain": [
       "0.9685714285714285"
      ]
     },
     "execution_count": 35,
     "metadata": {},
     "output_type": "execute_result"
    }
   ],
   "source": [
    "my_clf.score(X_test, y_test)"
   ]
  },
  {
   "cell_type": "markdown",
   "metadata": {},
   "source": [
    "Задание 5"
   ]
  },
  {
   "cell_type": "code",
   "execution_count": null,
   "metadata": {},
   "outputs": [],
   "source": [
    "# seaborn - библиотека для визуализации данных\n",
    "# matplotlib - библиотека для рисования графиков\n",
    "# train_test_split - функция для разделения выборки на две части случайным образом\n",
    "# Pipeline (from sklearn.pipeline import Pipeline) - класс для конвейерного применения моделей\n",
    "# StandardScaler (from sklearn.preprocessing import StandardScaler) - класс для приведения данных (делает матожидание равным 0, а дисперсию равной 1)\n",
    "# ClassifierMixin - класс, реализующий метод score\n",
    "# NeighborsBase - класс для оценочный функций\n",
    "# KNeighborsMixin - класс, реализующий поиск k ближайших соседей\n",
    "# SupervisedIntegerMixin - класс для классификации по конечному множеству целых чисел"
   ]
  }
 ],
 "metadata": {
  "kernelspec": {
   "display_name": "Python 3",
   "language": "python",
   "name": "python3"
  },
  "language_info": {
   "codemirror_mode": {
    "name": "ipython",
    "version": 3
   },
   "file_extension": ".py",
   "mimetype": "text/x-python",
   "name": "python",
   "nbconvert_exporter": "python",
   "pygments_lexer": "ipython3",
   "version": "3.5.2"
  }
 },
 "nbformat": 4,
 "nbformat_minor": 2
}
